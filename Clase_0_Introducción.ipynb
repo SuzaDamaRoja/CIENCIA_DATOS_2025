{
  "nbformat": 4,
  "nbformat_minor": 0,
  "metadata": {
    "colab": {
      "provenance": []
    },
    "kernelspec": {
      "name": "python3",
      "display_name": "Python 3"
    },
    "language_info": {
      "name": "python"
    }
  },
  "cells": [
    {
      "cell_type": "markdown",
      "source": [],
      "metadata": {
        "id": "YaNBh2wsr3si"
      }
    },
    {
      "cell_type": "code",
      "execution_count": null,
      "metadata": {
        "id": "8EWzYym8rRki"
      },
      "outputs": [],
      "source": []
    }
  ]
}