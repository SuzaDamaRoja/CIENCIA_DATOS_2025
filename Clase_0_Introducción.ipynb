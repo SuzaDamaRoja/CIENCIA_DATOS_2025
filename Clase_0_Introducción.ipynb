{
  "nbformat": 4,
  "nbformat_minor": 0,
  "metadata": {
    "colab": {
      "provenance": [],
      "authorship_tag": "ABX9TyMOIipMLmZQoboLqUnZHxDn",
      "include_colab_link": true
    },
    "kernelspec": {
      "name": "python3",
      "display_name": "Python 3"
    },
    "language_info": {
      "name": "python"
    }
  },
  "cells": [
    {
      "cell_type": "markdown",
      "metadata": {
        "id": "view-in-github",
        "colab_type": "text"
      },
      "source": [
        "<a href=\"https://colab.research.google.com/github/SuzaDamaRoja/CIENCIA_DATOS_2025/blob/main/Clase_0_Introducci%C3%B3n.ipynb\" target=\"_parent\"><img src=\"https://colab.research.google.com/assets/colab-badge.svg\" alt=\"Open In Colab\"/></a>"
      ]
    },
    {
      "cell_type": "markdown",
      "source": [
        "#Prueba de valoración\n",
        "Se realizará una prueba de aptitud de programación\n",
        "Para esto se tendrá en cuenta lo siguiente\n",
        "\n",
        "\n",
        "1.   La prueba durará 2 horas\n",
        "2.   El estudiante deberá intentar desarrollar cada punto.\n",
        "3. En caso de no recordar qué hacer, el estudiante deberá escribir con algoritmia la resolución del ejercicio\n",
        "\n"
      ],
      "metadata": {
        "id": "86x324n3t1_Z"
      }
    },
    {
      "cell_type": "markdown",
      "source": [
        "##Estructuras de selección\n",
        "La estructura de selección en python, se declara con la palabra if, y se emplea de la siguiente forma:\n",
        "\n",
        "\n",
        "```\n",
        "if (condición):\n",
        "  Si se cumple, aquí suceden cositas ✌\n",
        "else:\n",
        "  Si no se cumple, aquí sucenden cositas ⏰\n",
        "```\n",
        "\n"
      ],
      "metadata": {
        "id": "30fdzjuMuQoR"
      }
    },
    {
      "cell_type": "code",
      "execution_count": null,
      "metadata": {
        "id": "8EWzYym8rRki"
      },
      "outputs": [],
      "source": []
    }
  ]
}