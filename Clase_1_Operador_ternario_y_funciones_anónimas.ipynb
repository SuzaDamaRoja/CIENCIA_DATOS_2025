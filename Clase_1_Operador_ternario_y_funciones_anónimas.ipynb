{
  "nbformat": 4,
  "nbformat_minor": 0,
  "metadata": {
    "colab": {
      "provenance": [],
      "authorship_tag": "ABX9TyM1S6rYQb6Ia4nknc9QzzdA",
      "include_colab_link": true
    },
    "kernelspec": {
      "name": "python3",
      "display_name": "Python 3"
    },
    "language_info": {
      "name": "python"
    }
  },
  "cells": [
    {
      "cell_type": "markdown",
      "metadata": {
        "id": "view-in-github",
        "colab_type": "text"
      },
      "source": [
        "<a href=\"https://colab.research.google.com/github/SuzaDamaRoja/CIENCIA_DATOS_2025/blob/main/Clase_1_Operador_ternario_y_funciones_an%C3%B3nimas.ipynb\" target=\"_parent\"><img src=\"https://colab.research.google.com/assets/colab-badge.svg\" alt=\"Open In Colab\"/></a>"
      ]
    },
    {
      "cell_type": "markdown",
      "source": [
        "#Operador ternario\n",
        "Es otra forma de declarar la estructura condicional\n",
        "Estructura condicional\n",
        "```\n",
        "if (condición):\n",
        "  Rta si la condición es verdadera\n",
        "else:\n",
        "  Rta si la condición es falsa\n",
        "```\n",
        "Operador ternario\n",
        "```\n",
        "Rta si es verdadero if (condición) else Rta si es falso\n",
        "```\n",
        "\n",
        "\n",
        "\n"
      ],
      "metadata": {
        "id": "4LCddQd_0NzA"
      }
    },
    {
      "cell_type": "code",
      "execution_count": 1,
      "metadata": {
        "colab": {
          "base_uri": "https://localhost:8080/"
        },
        "id": "tlTGVw4_0DcI",
        "outputId": "95ac7734-1ebc-40d9-990e-cf9729224ade"
      },
      "outputs": [
        {
          "name": "stdout",
          "output_type": "stream",
          "text": [
            "Ingrese un valor4\n",
            "Ingrese otro valor5\n"
          ]
        }
      ],
      "source": [
        "#Ejemplo\n",
        "#Conocer cuál es el mayor de dos números\n",
        "a=int(input(\"Ingrese un valor\"))\n",
        "b=int(input(\"Ingrese otro valor\"))"
      ]
    },
    {
      "cell_type": "code",
      "source": [
        "if a>b:\n",
        "  print(f\"{a} es mayor que {b}\")\n",
        "else:\n",
        "  print(f\"{b} es mayor que {a}\")"
      ],
      "metadata": {
        "colab": {
          "base_uri": "https://localhost:8080/"
        },
        "id": "qBv3JwQY1iX6",
        "outputId": "dfa91e4d-79e6-4b5f-c08f-5bed096554dc"
      },
      "execution_count": 2,
      "outputs": [
        {
          "output_type": "stream",
          "name": "stdout",
          "text": [
            "5 es mayor que 4\n"
          ]
        }
      ]
    },
    {
      "cell_type": "code",
      "source": [
        "#Operador ternario\n",
        "msg=f\"{a} es mayor que {b}\" if a>b else f\"{b} es mayor que {a}\"\n",
        "print(msg)"
      ],
      "metadata": {
        "colab": {
          "base_uri": "https://localhost:8080/"
        },
        "id": "MuT_5vXy11jG",
        "outputId": "d52611df-1af2-492d-c088-cf2882f677f6"
      },
      "execution_count": 3,
      "outputs": [
        {
          "output_type": "stream",
          "name": "stdout",
          "text": [
            "5 es mayor que 4\n"
          ]
        }
      ]
    },
    {
      "cell_type": "code",
      "source": [
        "f\"{a} es mayor que {b}\" if a>b else f\"{b} es mayor que {a}\""
      ],
      "metadata": {
        "colab": {
          "base_uri": "https://localhost:8080/",
          "height": 36
        },
        "id": "dCL-x56W2lxO",
        "outputId": "98d595a1-2067-4b0e-9e56-bf6aaec09111"
      },
      "execution_count": 4,
      "outputs": [
        {
          "output_type": "execute_result",
          "data": {
            "text/plain": [
              "'5 es mayor que 4'"
            ],
            "application/vnd.google.colaboratory.intrinsic+json": {
              "type": "string"
            }
          },
          "metadata": {},
          "execution_count": 4
        }
      ]
    },
    {
      "cell_type": "markdown",
      "source": [
        "#FUNCIONES\n",
        "\n",
        "\n",
        "1.   Funciones / Métodos\n",
        "2.   Funciones anónimas\n",
        "\n"
      ],
      "metadata": {
        "id": "L1ReQ0JP3KAl"
      }
    },
    {
      "cell_type": "markdown",
      "source": [
        "##Funciones\n",
        "Declarando una función\n",
        "```\n",
        "def (nombre_de_la_función)(parámetros de la función):\n",
        "  Adentro va lo que se va a ejecutar\n",
        "```\n",
        "1. Sin parámetro, sin retorno\n",
        "2. Sin parámetro, con retorno\n",
        "3. Con parámetro, sin retorno\n",
        "4. Con parámetro, con retorno\n",
        "\n"
      ],
      "metadata": {
        "id": "pwFaH_0N3TKV"
      }
    },
    {
      "cell_type": "markdown",
      "source": [
        "###1. Sin parámetro, sin retorno\n",
        "Se emplea cuando no se requiere un almacenamiento en una variable local.\n",
        "\n",
        "No se requieren parámetro su uso"
      ],
      "metadata": {
        "id": "y17HN1DI4d6t"
      }
    },
    {
      "cell_type": "code",
      "source": [
        "print(\"Hola mundo\")"
      ],
      "metadata": {
        "colab": {
          "base_uri": "https://localhost:8080/"
        },
        "id": "XWJX7oX43Set",
        "outputId": "4bcda8c6-c8de-49e0-c82e-6cd29770927a"
      },
      "execution_count": 5,
      "outputs": [
        {
          "output_type": "stream",
          "name": "stdout",
          "text": [
            "Hola mundo\n"
          ]
        }
      ]
    },
    {
      "cell_type": "code",
      "source": [
        "def saludo():\n",
        "  print(\"hola mundo\")"
      ],
      "metadata": {
        "id": "9XtUzdH74ms8"
      },
      "execution_count": 6,
      "outputs": []
    },
    {
      "cell_type": "code",
      "source": [
        "saludo()"
      ],
      "metadata": {
        "colab": {
          "base_uri": "https://localhost:8080/"
        },
        "id": "i-5YSkAl4rZz",
        "outputId": "0c9db25a-d5d4-4b03-da43-6a7f76ce561c"
      },
      "execution_count": 7,
      "outputs": [
        {
          "output_type": "stream",
          "name": "stdout",
          "text": [
            "hola mundo\n"
          ]
        }
      ]
    },
    {
      "cell_type": "markdown",
      "source": [
        "###2. Sin parámetro, con retorno\n",
        "Cuando necesito realizar una operación, convertir variable local en global"
      ],
      "metadata": {
        "id": "MBOLT_oy44x8"
      }
    },
    {
      "cell_type": "code",
      "source": [
        "def numero():\n",
        "  return 4+5\n",
        "\n",
        "c=numero()\n",
        "c"
      ],
      "metadata": {
        "colab": {
          "base_uri": "https://localhost:8080/"
        },
        "id": "ugT_CDtM44Jr",
        "outputId": "1433672a-7bea-4cc3-bc36-3813fd18b291"
      },
      "execution_count": 14,
      "outputs": [
        {
          "output_type": "execute_result",
          "data": {
            "text/plain": [
              "9"
            ]
          },
          "metadata": {},
          "execution_count": 14
        }
      ]
    },
    {
      "cell_type": "code",
      "source": [
        "def numero2():\n",
        "  d=4+5#variable local"
      ],
      "metadata": {
        "id": "s4_blYPp5Zfu"
      },
      "execution_count": 19,
      "outputs": []
    },
    {
      "cell_type": "code",
      "source": [
        "f=numero2()\n",
        "f"
      ],
      "metadata": {
        "id": "FbV1NSbn5eeS"
      },
      "execution_count": 22,
      "outputs": []
    },
    {
      "cell_type": "markdown",
      "source": [
        "###3. Con parámetro, sin retorno\n"
      ],
      "metadata": {
        "id": "3Dz_l0E_6Rfz"
      }
    },
    {
      "cell_type": "code",
      "source": [
        "def cuadrado(a): print(a**2)\n",
        "cuadrado(5)"
      ],
      "metadata": {
        "colab": {
          "base_uri": "https://localhost:8080/"
        },
        "id": "QzFpDGcT6Urq",
        "outputId": "436d3f8d-7e33-43e2-dcc0-bd742a9b206d"
      },
      "execution_count": 24,
      "outputs": [
        {
          "output_type": "stream",
          "name": "stdout",
          "text": [
            "25\n"
          ]
        }
      ]
    },
    {
      "cell_type": "markdown",
      "source": [
        "4. Con parámetro, con retorno"
      ],
      "metadata": {
        "id": "In9jKFlq6URy"
      }
    },
    {
      "cell_type": "code",
      "source": [
        "def cubo(b): return(b**3)\n",
        "a=cubo(6)\n",
        "a"
      ],
      "metadata": {
        "colab": {
          "base_uri": "https://localhost:8080/"
        },
        "id": "25vQSxAA6sDk",
        "outputId": "2fd317f7-1c99-4749-abea-ded34da5a6d0"
      },
      "execution_count": 25,
      "outputs": [
        {
          "output_type": "execute_result",
          "data": {
            "text/plain": [
              "216"
            ]
          },
          "metadata": {},
          "execution_count": 25
        }
      ]
    },
    {
      "cell_type": "code",
      "source": [
        "def comparar(a,b):\n",
        "  return f\"{a} es mayor que {b}\" if a>b else f\"{b} es mayor que {a}\""
      ],
      "metadata": {
        "id": "ZZbYn3BH6_Nh"
      },
      "execution_count": 26,
      "outputs": []
    },
    {
      "cell_type": "code",
      "source": [
        "comparar(3,9)"
      ],
      "metadata": {
        "colab": {
          "base_uri": "https://localhost:8080/",
          "height": 36
        },
        "id": "bfs7kg-Q7NPI",
        "outputId": "16f427d2-879f-4d4b-b074-9f0268003e0a"
      },
      "execution_count": 27,
      "outputs": [
        {
          "output_type": "execute_result",
          "data": {
            "text/plain": [
              "'9 es mayor que 3'"
            ],
            "application/vnd.google.colaboratory.intrinsic+json": {
              "type": "string"
            }
          },
          "metadata": {},
          "execution_count": 27
        }
      ]
    }
  ]
}